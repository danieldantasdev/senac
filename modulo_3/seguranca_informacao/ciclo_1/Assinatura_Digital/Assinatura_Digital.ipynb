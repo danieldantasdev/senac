{
  "nbformat": 4,
  "nbformat_minor": 0,
  "metadata": {
    "colab": {
      "provenance": [],
      "collapsed_sections": []
    },
    "kernelspec": {
      "name": "python3",
      "display_name": "Python 3"
    },
    "language_info": {
      "name": "python"
    }
  },
  "cells": [
    {
      "cell_type": "code",
      "source": [
        "from Crypto.PublicKey import RSA\n",
        "\n",
        "parChaves = RSA.generate(bits=1024)\n",
        "print(f\"Chave pública:  (n={hex(parChaves.n)}, e={hex(parChaves.e)})\")\n",
        "print(f\"Chave privada: (n={hex(parChaves.n)}, d={hex(parChaves.d)})\")"
      ],
      "metadata": {
        "colab": {
          "base_uri": "https://localhost:8080/"
        },
        "id": "89d-Lzvik6aQ",
        "outputId": "1bee7f69-bf43-43d3-b409-471d0bcc71d3"
      },
      "execution_count": 93,
      "outputs": [
        {
          "output_type": "stream",
          "name": "stdout",
          "text": [
            "Chave pública:  (n=0xa2b6153ec82ef1c09a28c6011a6e63b7e258b2fdeae9f75228ff3cddd6f4122129b9314117bec88a610c2351fed53f59bc779e67e3d4ef9b763535a4407278a3449a2c4ce5c4ac1ba59539fa440e332005910691d34fd8f2de037724dda0acf5a9bda0544d92672cd2447572f120ad3feaa2392faa8483a14f6a6076f530da8d, e=0x10001)\n",
            "Chave privada: (n=0xa2b6153ec82ef1c09a28c6011a6e63b7e258b2fdeae9f75228ff3cddd6f4122129b9314117bec88a610c2351fed53f59bc779e67e3d4ef9b763535a4407278a3449a2c4ce5c4ac1ba59539fa440e332005910691d34fd8f2de037724dda0acf5a9bda0544d92672cd2447572f120ad3feaa2392faa8483a14f6a6076f530da8d, d=0x181210badcc4191926ea763ef933db1ba667fc7414d9af854a31ac1af3598b09b891957d982f8347a40b617998008b0d26ea43ec56e78c2f76ec1b373a737f70b1de63a666d438e1a6f6db8920f38303f36d7b0e2a1ba24bc6a86244da30759ec3fac639320a463697c9ae49881531f3a17929b4929b0949aeaae168104ddd0f)\n"
          ]
        }
      ]
    },
    {
      "cell_type": "code",
      "source": [
        "# RSA sign the message\n",
        "msg = b'O rato roeu a roupa do rei de roma'\n",
        "from hashlib import sha512\n",
        "hash = int.from_bytes(sha512(msg).digest(), byteorder='big')\n",
        "AssinaturaDigital = pow(hash, parChaves.d, parChaves.n)\n",
        "print(\"Assinatura Digital:\", hex(AssinaturaDigital))"
      ],
      "metadata": {
        "colab": {
          "base_uri": "https://localhost:8080/"
        },
        "id": "fdwZfXIwk-Cz",
        "outputId": "6d3b19d2-a98a-4787-8f57-4fca4752d538"
      },
      "execution_count": 96,
      "outputs": [
        {
          "output_type": "stream",
          "name": "stdout",
          "text": [
            "Assinatura Digital: 0x9396fc608070a50ca7669952672355ca2d291c1f9e1be899dd73448141076fc6d9d8a4f77decb6634492fc7d0cbbb46ad75823bb696968ca6300b26ff22ed9eca122cd72c1115a728048fb6f83e67ccac613128e4baebe9e072a16cbf02386c5cfbbd7197f3a915b4c4c3f0dc8dc3728072a270549bd2475e1f45f00c6df9ec2\n"
          ]
        }
      ]
    },
    {
      "cell_type": "code",
      "source": [
        "# RSA verify signature\n",
        "msg = b'O rato roeu a roupa do rei de roma'\n",
        "hash = int.from_bytes(sha512(msg).digest(), byteorder='big')\n",
        "hashFromSignature = pow(AssinaturaDigital, parChaves.e, parChaves.n)\n",
        "print(\"Assinatura Digital válida?\", hash == hashFromSignature)"
      ],
      "metadata": {
        "colab": {
          "base_uri": "https://localhost:8080/"
        },
        "id": "iLlx7_bplBNr",
        "outputId": "d6c9078e-2312-4bac-8f5c-420c1b200d0e"
      },
      "execution_count": 98,
      "outputs": [
        {
          "output_type": "stream",
          "name": "stdout",
          "text": [
            "Assinatura Digital válida? True\n"
          ]
        }
      ]
    }
  ]
}